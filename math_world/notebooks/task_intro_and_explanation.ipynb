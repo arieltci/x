{
 "cells": [
  {
   "cell_type": "code",
   "execution_count": 1,
   "metadata": {},
   "outputs": [],
   "source": [
    "import sys\n",
    "sys.path.append(\"../src\")\n",
    "import pandas as pd\n",
    "import pickle\n",
    "from utils import solve_eq_string, is_number\n",
    "from text_to_template import number_parsing\n",
    "pd.set_option('max_colwidth', 800)\n",
    "\n",
    "%load_ext autoreload\n",
    "%autoreload 2"
   ]
  },
  {
   "cell_type": "markdown",
   "metadata": {},
   "source": [
    "### Task details and expectations:  \n",
    "\n",
    "**Input**  - math problem in free text  \n",
    "**Output** - numerical solution  \n",
    "**Helpers** - \n",
    "#### Text template generation module\n",
    "Takes specific problem and factors out the numbers. The new representation generalizes the original problem\n",
    "#### Symbolic solver module \n",
    "Gets symbolic equation and generates the numerical solution"
   ]
  },
  {
   "cell_type": "markdown",
   "metadata": {},
   "source": [
    "# Load data"
   ]
  },
  {
   "cell_type": "code",
   "execution_count": 2,
   "metadata": {},
   "outputs": [
    {
     "data": {
      "text/html": [
       "<div>\n",
       "<style scoped>\n",
       "    .dataframe tbody tr th:only-of-type {\n",
       "        vertical-align: middle;\n",
       "    }\n",
       "\n",
       "    .dataframe tbody tr th {\n",
       "        vertical-align: top;\n",
       "    }\n",
       "\n",
       "    .dataframe thead th {\n",
       "        text-align: right;\n",
       "    }\n",
       "</style>\n",
       "<table border=\"1\" class=\"dataframe\">\n",
       "  <thead>\n",
       "    <tr style=\"text-align: right;\">\n",
       "      <th></th>\n",
       "      <th>ans</th>\n",
       "      <th>ans_simple</th>\n",
       "      <th>equations</th>\n",
       "      <th>text</th>\n",
       "    </tr>\n",
       "  </thead>\n",
       "  <tbody>\n",
       "    <tr>\n",
       "      <th>0</th>\n",
       "      <td>{40;29}</td>\n",
       "      <td>[40, 29]</td>\n",
       "      <td>[unkn: x,y, equ: x=y+11, equ: 3*x=4*y+4]</td>\n",
       "      <td>one number is 11 more than another number. Find the two numbers if three times the larger exceeds four times the smaller number by 4.</td>\n",
       "    </tr>\n",
       "    <tr>\n",
       "      <th>1</th>\n",
       "      <td>6; 9</td>\n",
       "      <td>[6, 9]</td>\n",
       "      <td>[unkn: x,y, equ: x + 3 = y, equ: 2*y + 12 = 5*x]</td>\n",
       "      <td>One number is 3 less than a second number. Twice the second number is 12 less than 5 times the first. Find the two numbers.</td>\n",
       "    </tr>\n",
       "    <tr>\n",
       "      <th>2</th>\n",
       "      <td>{34; 28}</td>\n",
       "      <td>[34, 28]</td>\n",
       "      <td>[unkn: x,y, equ: x+y=62, equ: x-y=6]</td>\n",
       "      <td>Find two numbers whose sum is 62 and whose difference is  6.</td>\n",
       "    </tr>\n",
       "    <tr>\n",
       "      <th>3</th>\n",
       "      <td>{42;26}</td>\n",
       "      <td>[42, 26]</td>\n",
       "      <td>[unkn: x,y, equ: x+y=68, equ: x-y=16]</td>\n",
       "      <td>the sum of two numbers is 68. their difference is 16. what are the numbers?</td>\n",
       "    </tr>\n",
       "    <tr>\n",
       "      <th>4</th>\n",
       "      <td>{77; 20}</td>\n",
       "      <td>[77, 20]</td>\n",
       "      <td>[unkn: x,y, equ: x+y=97, equ: x-y=57]</td>\n",
       "      <td>the sum of two numbers is 97. the difference of the two numbers is 57. find the two numbers</td>\n",
       "    </tr>\n",
       "  </tbody>\n",
       "</table>\n",
       "</div>"
      ],
      "text/plain": [
       "        ans ans_simple                                         equations  \\\n",
       "0   {40;29}   [40, 29]          [unkn: x,y, equ: x=y+11, equ: 3*x=4*y+4]   \n",
       "1      6; 9     [6, 9]  [unkn: x,y, equ: x + 3 = y, equ: 2*y + 12 = 5*x]   \n",
       "2  {34; 28}   [34, 28]              [unkn: x,y, equ: x+y=62, equ: x-y=6]   \n",
       "3   {42;26}   [42, 26]             [unkn: x,y, equ: x+y=68, equ: x-y=16]   \n",
       "4  {77; 20}   [77, 20]             [unkn: x,y, equ: x+y=97, equ: x-y=57]   \n",
       "\n",
       "                                                                                                                                    text  \n",
       "0  one number is 11 more than another number. Find the two numbers if three times the larger exceeds four times the smaller number by 4.  \n",
       "1            One number is 3 less than a second number. Twice the second number is 12 less than 5 times the first. Find the two numbers.  \n",
       "2                                                                           Find two numbers whose sum is 62 and whose difference is  6.  \n",
       "3                                                            the sum of two numbers is 68. their difference is 16. what are the numbers?  \n",
       "4                                            the sum of two numbers is 97. the difference of the two numbers is 57. find the two numbers  "
      ]
     },
     "execution_count": 2,
     "metadata": {},
     "output_type": "execute_result"
    }
   ],
   "source": [
    "math_train = pd.read_json(r\"../data/dev_data.json\")\n",
    "math_train[['ans', 'ans_simple', 'equations','text']].head()"
   ]
  },
  {
   "cell_type": "markdown",
   "metadata": {},
   "source": [
    "Example for verbal math problem"
   ]
  },
  {
   "cell_type": "code",
   "execution_count": 3,
   "metadata": {},
   "outputs": [],
   "source": [
    "sample = math_train.iloc[1]"
   ]
  },
  {
   "cell_type": "code",
   "execution_count": 4,
   "metadata": {},
   "outputs": [
    {
     "data": {
      "text/plain": [
       "'One number is 3 less than a second number. Twice the second number is 12 less than 5 times the first. Find the two numbers.'"
      ]
     },
     "execution_count": 4,
     "metadata": {},
     "output_type": "execute_result"
    }
   ],
   "source": [
    "sample['text']"
   ]
  },
  {
   "cell_type": "markdown",
   "metadata": {},
   "source": [
    "The Requested equation and its solution"
   ]
  },
  {
   "cell_type": "code",
   "execution_count": 5,
   "metadata": {},
   "outputs": [
    {
     "data": {
      "text/plain": [
       "equations    [unkn: x,y, equ: x + 3 = y, equ: 2*y + 12 = 5*x]\n",
       "ans                                                      6; 9\n",
       "Name: 1, dtype: object"
      ]
     },
     "execution_count": 5,
     "metadata": {},
     "output_type": "execute_result"
    }
   ],
   "source": [
    "sample[['equations','ans']]"
   ]
  },
  {
   "cell_type": "markdown",
   "metadata": {},
   "source": [
    "# Mapping free text to template\n",
    "You get the equations and the text and you are supposed to (see code in `number parsing`):\n",
    "+ Code in `list_number_mapper`\n",
    "    + Extract the numbers in the equations\n",
    "    + Create template equations from math equations\n",
    "+ Code in `number_mapper`\n",
    "    + Extract the numbers from text\n",
    "    + Create text template - replaces numbers with symbolics\n",
    "    + Create list of symbols that correspond to the extracted numbers\n",
    "+ Code in `generate_new_equation`\n",
    "    + Reformats the equations - Replaces the symbolics in the template equations with numbers"
   ]
  },
  {
   "cell_type": "code",
   "execution_count": 6,
   "metadata": {},
   "outputs": [],
   "source": [
    "equation_list_template, eq_num_list, text_template, var_list, text_num_list =\\\n",
    "                number_parsing(sample['equations'], sample['text'])"
   ]
  },
  {
   "cell_type": "code",
   "execution_count": 7,
   "metadata": {},
   "outputs": [
    {
     "name": "stdout",
     "output_type": "stream",
     "text": [
      "** Original text **:\tOne number is 3 less than a second number. Twice the second number is 12 less than 5 times the first. Find the two numbers.\n",
      "\n",
      "** Equation list:\t['unkn: x,y', 'equ: x + 3 = y', 'equ: 2*y + 12 = 5*x']\n",
      "\n",
      "** Numbers in text **:\t['3', '2', '12', '5']\n",
      "\n",
      "______________________________--OUTPUT---______________________________\n",
      "\n",
      "** Template text **:\tone number is $n0 less than a second number $n1 the second number is $n2 less than $n3 times the first find the two numbers \n",
      "\n",
      "** Equation list template **:\t['unkn: x,y', 'equ: x + $n0 = y ', 'equ: $n1*y + $n2 = $n3*x ']\n",
      "\n",
      "** Numbers from the equation **:\t['3', '2', '12', '5']\n",
      "\n",
      "** Symbol list **:\t['$n0', '$n1', '$n2', '$n3']\n"
     ]
    }
   ],
   "source": [
    "print(f\"** Original text **:\\t{sample['text']}\\n\"+\n",
    "    f\"\\n** Equation list:\\t{sample['equations']}\\n\"+\n",
    "    f\"\\n** Numbers in text **:\\t{text_num_list}\\n\\n\"+\n",
    "    f\"{'_'*30}--OUTPUT---{'_'*30}\\n\"+  \n",
    "    f\"\\n** Template text **:\\t{text_template}\\n\"+\n",
    "    f\"\\n** Equation list template **:\\t{equation_list_template}\\n\"+\n",
    "    f\"\\n** Numbers from the equation **:\\t{eq_num_list}\\n\"+\n",
    "    f\"\\n** Symbol list **:\\t{var_list}\")"
   ]
  },
  {
   "cell_type": "markdown",
   "metadata": {},
   "source": [
    "# Solving symbolic equations \n",
    "`solve_eq_string` gets as input the equations in the same format as the raw data. Another flag is passed to constrain the problem for integer solution.\n",
    "The returned value is the solution in `float` format.  \n",
    "The function uses `sympy` and `wolfram` engines"
   ]
  },
  {
   "cell_type": "code",
   "execution_count": 8,
   "metadata": {},
   "outputs": [
    {
     "data": {
      "text/plain": [
       "['unkn: x,y', 'equ: x + 3 = y', 'equ: 2*y + 12 = 5*x']"
      ]
     },
     "execution_count": 8,
     "metadata": {},
     "output_type": "execute_result"
    }
   ],
   "source": [
    "sample[\"equations\"]"
   ]
  },
  {
   "cell_type": "code",
   "execution_count": 9,
   "metadata": {},
   "outputs": [
    {
     "name": "stdout",
     "output_type": "stream",
     "text": [
      "Answer:\t 6; 9\n",
      "Solution:\t [6.00000000000000, 9.00000000000000]\n"
     ]
    }
   ],
   "source": [
    "answer = sample['ans']\n",
    "solution = solve_eq_string(sample[\"equations\"], integer_flag= is_number(sample[\"text\"]))\n",
    "print(f\"Answer:\\t {answer}\")\n",
    "print(f\"Solution:\\t {solution}\")"
   ]
  },
  {
   "cell_type": "markdown",
   "metadata": {},
   "source": [
    "# What do you need to do?\n",
    "Implement a model (a class that like `ExampleModel` class). Use the `score` function to score your model.\n",
    "You can test your solution with the evaluation script. It should look something like this"
   ]
  },
  {
   "cell_type": "code",
   "execution_count": 10,
   "metadata": {},
   "outputs": [
    {
     "ename": "NotImplementedError",
     "evalue": "",
     "output_type": "error",
     "traceback": [
      "\u001b[1;31m---------------------------------------------------------------------------\u001b[0m",
      "\u001b[1;31mNotImplementedError\u001b[0m                       Traceback (most recent call last)",
      "\u001b[1;32m<ipython-input-10-a40c9d5f2ef4>\u001b[0m in \u001b[0;36m<module>\u001b[1;34m()\u001b[0m\n\u001b[0;32m      6\u001b[0m \u001b[1;31m## model\u001b[0m\u001b[1;33m\u001b[0m\u001b[1;33m\u001b[0m\u001b[0m\n\u001b[0;32m      7\u001b[0m \u001b[0mmodel\u001b[0m \u001b[1;33m=\u001b[0m \u001b[0mExampleModel\u001b[0m\u001b[1;33m(\u001b[0m\u001b[1;33m)\u001b[0m\u001b[1;33m\u001b[0m\u001b[0m\n\u001b[1;32m----> 8\u001b[1;33m \u001b[0mmodel\u001b[0m\u001b[1;33m.\u001b[0m\u001b[0mfit\u001b[0m\u001b[1;33m(\u001b[0m\u001b[0mmath_train\u001b[0m\u001b[1;33m)\u001b[0m\u001b[1;33m\u001b[0m\u001b[0m\n\u001b[0m\u001b[0;32m      9\u001b[0m \u001b[1;33m\u001b[0m\u001b[0m\n\u001b[0;32m     10\u001b[0m \u001b[1;31m## print evaluation result\u001b[0m\u001b[1;33m\u001b[0m\u001b[1;33m\u001b[0m\u001b[0m\n",
      "\u001b[1;32mD:\\MathTeacherChallenge\\src\\models\\models.py\u001b[0m in \u001b[0;36mfit\u001b[1;34m(self, df, y)\u001b[0m\n\u001b[0;32m     10\u001b[0m \u001b[1;33m\u001b[0m\u001b[0m\n\u001b[0;32m     11\u001b[0m         \u001b[1;31m# TODO\u001b[0m\u001b[1;33m\u001b[0m\u001b[1;33m\u001b[0m\u001b[0m\n\u001b[1;32m---> 12\u001b[1;33m         \u001b[1;32mraise\u001b[0m \u001b[0mNotImplementedError\u001b[0m\u001b[1;33m\u001b[0m\u001b[0m\n\u001b[0m\u001b[0;32m     13\u001b[0m         \u001b[1;32mreturn\u001b[0m \u001b[0mself\u001b[0m\u001b[1;33m\u001b[0m\u001b[0m\n\u001b[0;32m     14\u001b[0m \u001b[1;33m\u001b[0m\u001b[0m\n",
      "\u001b[1;31mNotImplementedError\u001b[0m: "
     ]
    }
   ],
   "source": [
    "from models.models import ExampleModel\n",
    "\n",
    "math_train = pd.read_json(r\"../data/dev_data.json\")\n",
    "math_test = pd.read_json(r\"../data/test_data.json\")\n",
    "\n",
    "## model\n",
    "model = ExampleModel()\n",
    "model.fit(math_train)\n",
    "\n",
    "## print evaluation result\n",
    "print(f'result score on train: {model.score(math_train,frac=0.1,verbose=False,use_ans=True)}')\n",
    "print(f'result score on test: {model.score(math_test,frac=1,verbose=True,use_ans=True)}')"
   ]
  },
  {
   "cell_type": "markdown",
   "metadata": {},
   "source": [
    "Results will be printed in the following manner"
   ]
  },
  {
   "cell_type": "markdown",
   "metadata": {},
   "source": [
    "```\n",
    "result score on train: 0.861315\n",
    "\n",
    "0 1 0.14285714285714285\n",
    "0 2 0.16666666666666666\n",
    "0 3 0.15384615384615385\n",
    "0 4 0.14285714285714285\n",
    "0 5 0.13333333333333333\n",
    "...\n",
    "```"
   ]
  },
  {
   "cell_type": "markdown",
   "metadata": {},
   "source": [
    "First line is the accuracy on the training data. From there we iterate over the rows of the test data and print the accuracy in the current iteration"
   ]
  }
 ],
 "metadata": {
  "kernelspec": {
   "display_name": "Python 3",
   "language": "python",
   "name": "python3"
  },
  "language_info": {
   "codemirror_mode": {
    "name": "ipython",
    "version": 3
   },
   "file_extension": ".py",
   "mimetype": "text/x-python",
   "name": "python",
   "nbconvert_exporter": "python",
   "pygments_lexer": "ipython3",
   "version": "3.7.0"
  }
 },
 "nbformat": 4,
 "nbformat_minor": 2
}
